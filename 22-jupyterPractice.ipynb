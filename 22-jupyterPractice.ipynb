{
 "cells": [
  {
   "cell_type": "code",
   "execution_count": null,
   "id": "frank-attempt",
   "metadata": {},
   "outputs": [],
   "source": [
    "a = 1"
   ]
  },
  {
   "cell_type": "code",
   "execution_count": null,
   "id": "broken-latin",
   "metadata": {
    "scrolled": true
   },
   "outputs": [],
   "source": [
    "a"
   ]
  },
  {
   "cell_type": "code",
   "execution_count": null,
   "id": "attended-pleasure",
   "metadata": {},
   "outputs": [],
   "source": [
    "print(a)"
   ]
  },
  {
   "cell_type": "code",
   "execution_count": null,
   "id": "stylish-gather",
   "metadata": {},
   "outputs": [],
   "source": [
    "x"
   ]
  },
  {
   "cell_type": "code",
   "execution_count": null,
   "id": "breeding-airplane",
   "metadata": {},
   "outputs": [],
   "source": []
  },
  {
   "cell_type": "code",
   "execution_count": null,
   "id": "sunrise-hampton",
   "metadata": {},
   "outputs": [],
   "source": []
  },
  {
   "cell_type": "code",
   "execution_count": null,
   "id": "present-league",
   "metadata": {},
   "outputs": [],
   "source": [
    "x = 100"
   ]
  },
  {
   "cell_type": "code",
   "execution_count": null,
   "id": "herbal-virginia",
   "metadata": {},
   "outputs": [],
   "source": [
    "y = 1000"
   ]
  },
  {
   "cell_type": "code",
   "execution_count": null,
   "id": "sufficient-computer",
   "metadata": {},
   "outputs": [],
   "source": [
    "y"
   ]
  },
  {
   "cell_type": "code",
   "execution_count": null,
   "id": "complimentary-choice",
   "metadata": {},
   "outputs": [],
   "source": [
    "y = 1000"
   ]
  },
  {
   "cell_type": "code",
   "execution_count": null,
   "id": "postal-denver",
   "metadata": {},
   "outputs": [],
   "source": [
    "y"
   ]
  },
  {
   "cell_type": "code",
   "execution_count": null,
   "id": "increasing-rainbow",
   "metadata": {
    "scrolled": true
   },
   "outputs": [],
   "source": [
    "for i in range(0, 10000):\n",
    "    print(i)"
   ]
  },
  {
   "cell_type": "code",
   "execution_count": 3,
   "id": "respiratory-display",
   "metadata": {},
   "outputs": [],
   "source": [
    "with open('./staff.txt', 'r', encoding='utf-8') as f:\n",
    "    dataStr = f.read()"
   ]
  },
  {
   "cell_type": "code",
   "execution_count": 4,
   "id": "favorite-specification",
   "metadata": {},
   "outputs": [
    {
     "data": {
      "text/plain": [
       "'| ID  |  Name | DeptId| Age | Gender | Salary |\\n| --- |  ---  |  ---  | --- |  ---   | ------ |\\n| 001 | Mike  | 002   | 45  |   M    | 60000  |\\n| 002 | Judy  | 002   | 30  |   F    | 48000  |\\n| 003 | Allen | 001   | 22  |   M    | 50000  |\\n| 004 | Tom   | 002   | 47  |   M    | 47000  |\\n| 005 | Jack  | 003   | 36  |   M    | 52000  |\\n| 006 | Abby  | 002   | 24  |   F    | 45000  |\\n| 007 | Trump | 001   | 80  |   M    | 80000  |\\n| 008 | Marry | 003   | 29  |   F    | 87000  |'"
      ]
     },
     "execution_count": 4,
     "metadata": {},
     "output_type": "execute_result"
    }
   ],
   "source": [
    "dataStr"
   ]
  },
  {
   "cell_type": "code",
   "execution_count": 5,
   "id": "victorian-flashing",
   "metadata": {},
   "outputs": [
    {
     "name": "stdout",
     "output_type": "stream",
     "text": [
      "| ID  |  Name | DeptId| Age | Gender | Salary |\n",
      "| --- |  ---  |  ---  | --- |  ---   | ------ |\n",
      "| 001 | Mike  | 002   | 45  |   M    | 60000  |\n",
      "| 002 | Judy  | 002   | 30  |   F    | 48000  |\n",
      "| 003 | Allen | 001   | 22  |   M    | 50000  |\n",
      "| 004 | Tom   | 002   | 47  |   M    | 47000  |\n",
      "| 005 | Jack  | 003   | 36  |   M    | 52000  |\n",
      "| 006 | Abby  | 002   | 24  |   F    | 45000  |\n",
      "| 007 | Trump | 001   | 80  |   M    | 80000  |\n",
      "| 008 | Marry | 003   | 29  |   F    | 87000  |\n"
     ]
    }
   ],
   "source": [
    "print(dataStr)"
   ]
  },
  {
   "cell_type": "code",
   "execution_count": 6,
   "id": "constitutional-valve",
   "metadata": {},
   "outputs": [
    {
     "data": {
      "text/plain": [
       "['| ID  |  Name | DeptId| Age | Gender | Salary |',\n",
       " '| --- |  ---  |  ---  | --- |  ---   | ------ |',\n",
       " '| 001 | Mike  | 002   | 45  |   M    | 60000  |',\n",
       " '| 002 | Judy  | 002   | 30  |   F    | 48000  |',\n",
       " '| 003 | Allen | 001   | 22  |   M    | 50000  |',\n",
       " '| 004 | Tom   | 002   | 47  |   M    | 47000  |',\n",
       " '| 005 | Jack  | 003   | 36  |   M    | 52000  |',\n",
       " '| 006 | Abby  | 002   | 24  |   F    | 45000  |',\n",
       " '| 007 | Trump | 001   | 80  |   M    | 80000  |',\n",
       " '| 008 | Marry | 003   | 29  |   F    | 87000  |']"
      ]
     },
     "execution_count": 6,
     "metadata": {},
     "output_type": "execute_result"
    }
   ],
   "source": [
    "column = dataStr.split('\\n')\n",
    "column"
   ]
  },
  {
   "cell_type": "code",
   "execution_count": 7,
   "id": "confident-staff",
   "metadata": {},
   "outputs": [
    {
     "data": {
      "text/plain": [
       "'| ID  |  Name | DeptId| Age | Gender | Salary |'"
      ]
     },
     "execution_count": 7,
     "metadata": {},
     "output_type": "execute_result"
    }
   ],
   "source": [
    "column = dataStr.split('\\n')[0]\n",
    "column"
   ]
  },
  {
   "cell_type": "code",
   "execution_count": 8,
   "id": "found-spelling",
   "metadata": {},
   "outputs": [
    {
     "data": {
      "text/plain": [
       "'|ID|Name|DeptId|Age|Gender|Salary|'"
      ]
     },
     "execution_count": 8,
     "metadata": {},
     "output_type": "execute_result"
    }
   ],
   "source": [
    "column = dataStr.split('\\n')[0].replace(' ', '')\n",
    "column"
   ]
  },
  {
   "cell_type": "code",
   "execution_count": 9,
   "id": "electric-focus",
   "metadata": {},
   "outputs": [
    {
     "data": {
      "text/plain": [
       "['', 'ID', 'Name', 'DeptId', 'Age', 'Gender', 'Salary', '']"
      ]
     },
     "execution_count": 9,
     "metadata": {},
     "output_type": "execute_result"
    }
   ],
   "source": [
    "column = dataStr.split('\\n')[0].replace(' ', '').split('|')\n",
    "column"
   ]
  },
  {
   "cell_type": "code",
   "execution_count": 10,
   "id": "wooden-algebra",
   "metadata": {},
   "outputs": [
    {
     "data": {
      "text/plain": [
       "['ID', 'Name', 'DeptId', 'Age', 'Gender', 'Salary']"
      ]
     },
     "execution_count": 10,
     "metadata": {},
     "output_type": "execute_result"
    }
   ],
   "source": [
    "column = dataStr.split('\\n')[0].replace(' ', '').split('|')[1:-1]\n",
    "column"
   ]
  },
  {
   "cell_type": "code",
   "execution_count": 12,
   "id": "negative-glory",
   "metadata": {},
   "outputs": [
    {
     "data": {
      "text/plain": [
       "['| 001 | Mike  | 002   | 45  |   M    | 60000  |',\n",
       " '| 002 | Judy  | 002   | 30  |   F    | 48000  |',\n",
       " '| 003 | Allen | 001   | 22  |   M    | 50000  |',\n",
       " '| 004 | Tom   | 002   | 47  |   M    | 47000  |',\n",
       " '| 005 | Jack  | 003   | 36  |   M    | 52000  |',\n",
       " '| 006 | Abby  | 002   | 24  |   F    | 45000  |',\n",
       " '| 007 | Trump | 001   | 80  |   M    | 80000  |',\n",
       " '| 008 | Marry | 003   | 29  |   F    | 87000  |']"
      ]
     },
     "execution_count": 12,
     "metadata": {},
     "output_type": "execute_result"
    }
   ],
   "source": [
    "dataStr.split('\\n')[2:]"
   ]
  },
  {
   "cell_type": "code",
   "execution_count": 16,
   "id": "built-earth",
   "metadata": {},
   "outputs": [
    {
     "data": {
      "text/plain": [
       "[['001', 'Mike', '002', '45', 'M', '60000'],\n",
       " ['002', 'Judy', '002', '30', 'F', '48000'],\n",
       " ['003', 'Allen', '001', '22', 'M', '50000'],\n",
       " ['004', 'Tom', '002', '47', 'M', '47000'],\n",
       " ['005', 'Jack', '003', '36', 'M', '52000'],\n",
       " ['006', 'Abby', '002', '24', 'F', '45000'],\n",
       " ['007', 'Trump', '001', '80', 'M', '80000'],\n",
       " ['008', 'Marry', '003', '29', 'F', '87000']]"
      ]
     },
     "execution_count": 16,
     "metadata": {},
     "output_type": "execute_result"
    }
   ],
   "source": [
    "allStaff = [e.replace(' ', '').split('|')[1:-1] for e in dataStr.split('\\n')[2:]]\n",
    "allStaff"
   ]
  },
  {
   "cell_type": "code",
   "execution_count": 17,
   "id": "instructional-keeping",
   "metadata": {
    "scrolled": true
   },
   "outputs": [
    {
     "data": {
      "text/plain": [
       "{'001': {'ID': '001',\n",
       "  'Name': 'Mike',\n",
       "  'DeptId': '002',\n",
       "  'Age': '45',\n",
       "  'Gender': 'M',\n",
       "  'Salary': '60000'},\n",
       " '002': {'ID': '002',\n",
       "  'Name': 'Judy',\n",
       "  'DeptId': '002',\n",
       "  'Age': '30',\n",
       "  'Gender': 'F',\n",
       "  'Salary': '48000'},\n",
       " '003': {'ID': '003',\n",
       "  'Name': 'Allen',\n",
       "  'DeptId': '001',\n",
       "  'Age': '22',\n",
       "  'Gender': 'M',\n",
       "  'Salary': '50000'},\n",
       " '004': {'ID': '004',\n",
       "  'Name': 'Tom',\n",
       "  'DeptId': '002',\n",
       "  'Age': '47',\n",
       "  'Gender': 'M',\n",
       "  'Salary': '47000'},\n",
       " '005': {'ID': '005',\n",
       "  'Name': 'Jack',\n",
       "  'DeptId': '003',\n",
       "  'Age': '36',\n",
       "  'Gender': 'M',\n",
       "  'Salary': '52000'},\n",
       " '006': {'ID': '006',\n",
       "  'Name': 'Abby',\n",
       "  'DeptId': '002',\n",
       "  'Age': '24',\n",
       "  'Gender': 'F',\n",
       "  'Salary': '45000'},\n",
       " '007': {'ID': '007',\n",
       "  'Name': 'Trump',\n",
       "  'DeptId': '001',\n",
       "  'Age': '80',\n",
       "  'Gender': 'M',\n",
       "  'Salary': '80000'},\n",
       " '008': {'ID': '008',\n",
       "  'Name': 'Marry',\n",
       "  'DeptId': '003',\n",
       "  'Age': '29',\n",
       "  'Gender': 'F',\n",
       "  'Salary': '87000'}}"
      ]
     },
     "execution_count": 17,
     "metadata": {},
     "output_type": "execute_result"
    }
   ],
   "source": [
    "{staff[0]: {column[col]: info for col, info in enumerate(staff)} for staff in allStaff}"
   ]
  },
  {
   "cell_type": "code",
   "execution_count": 18,
   "id": "amazing-binary",
   "metadata": {},
   "outputs": [
    {
     "name": "stdout",
     "output_type": "stream",
     "text": [
      "0 a\n",
      "1 b\n",
      "2 c\n"
     ]
    }
   ],
   "source": [
    "tmpList = ['a', 'b', 'c']\n",
    "for n, i in enumerate(tmpList):\n",
    "    print(n, i)"
   ]
  },
  {
   "cell_type": "code",
   "execution_count": 19,
   "id": "encouraging-carry",
   "metadata": {},
   "outputs": [
    {
     "data": {
      "text/plain": [
       "['aa', 'bb', 'cc']"
      ]
     },
     "execution_count": 19,
     "metadata": {},
     "output_type": "execute_result"
    }
   ],
   "source": [
    "['aa', 'bb', 'cc']"
   ]
  },
  {
   "cell_type": "code",
   "execution_count": 20,
   "id": "above-music",
   "metadata": {},
   "outputs": [
    {
     "data": {
      "text/plain": [
       "['aa', 'bb', 'cc']"
      ]
     },
     "execution_count": 20,
     "metadata": {},
     "output_type": "execute_result"
    }
   ],
   "source": [
    "newList = []\n",
    "for i in tmpList:\n",
    "    newList.append(i * 2)\n",
    "newList"
   ]
  },
  {
   "cell_type": "code",
   "execution_count": 21,
   "id": "appointed-round",
   "metadata": {},
   "outputs": [
    {
     "data": {
      "text/plain": [
       "['aa', 'bb', 'cc']"
      ]
     },
     "execution_count": 21,
     "metadata": {},
     "output_type": "execute_result"
    }
   ],
   "source": [
    "[i * 2 for i in tmpList]"
   ]
  },
  {
   "cell_type": "code",
   "execution_count": null,
   "id": "revised-hunter",
   "metadata": {},
   "outputs": [],
   "source": []
  }
 ],
 "metadata": {
  "kernelspec": {
   "display_name": "Python 3",
   "language": "python",
   "name": "python3"
  },
  "language_info": {
   "codemirror_mode": {
    "name": "ipython",
    "version": 3
   },
   "file_extension": ".py",
   "mimetype": "text/x-python",
   "name": "python",
   "nbconvert_exporter": "python",
   "pygments_lexer": "ipython3",
   "version": "3.7.0"
  }
 },
 "nbformat": 4,
 "nbformat_minor": 5
}
