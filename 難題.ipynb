{
 "cells": [
  {
   "cell_type": "code",
   "execution_count": 2,
   "metadata": {},
   "outputs": [],
   "source": [
    "dataStr='| ID  |  Name | DeptId| Age | Gender | Salary |\\n| --- |  ---  |  ---  | --- |  ---   | ------ |\\n| 001 | Mike  | 002   | 45  |   M    | 60000  |\\n| 002 | Judy  | 002   | 30  |   F    | 48000  |\\n| 003 | Allen | 001   | 22  |   M    | 50000  |\\n| 004 | Tom   | 002   | 47  |   M    | 47000  |\\n| 005 | Jack  | 003   | 36  |   M    | 52000  |\\n| 006 | Abby  | 002   | 24  |   F    | 45000  |\\n| 007 | Trump | 001   | 80  |   M    | 80000  |\\n| 008 | Marry | 003   | 29  |   F    | 87000  |'"
   ]
  },
  {
   "cell_type": "code",
   "execution_count": 3,
   "metadata": {},
   "outputs": [
    {
     "name": "stdout",
     "output_type": "stream",
     "text": [
      "| ID  |  Name | DeptId| Age | Gender | Salary |\n",
      "| --- |  ---  |  ---  | --- |  ---   | ------ |\n",
      "| 001 | Mike  | 002   | 45  |   M    | 60000  |\n",
      "| 002 | Judy  | 002   | 30  |   F    | 48000  |\n",
      "| 003 | Allen | 001   | 22  |   M    | 50000  |\n",
      "| 004 | Tom   | 002   | 47  |   M    | 47000  |\n",
      "| 005 | Jack  | 003   | 36  |   M    | 52000  |\n",
      "| 006 | Abby  | 002   | 24  |   F    | 45000  |\n",
      "| 007 | Trump | 001   | 80  |   M    | 80000  |\n",
      "| 008 | Marry | 003   | 29  |   F    | 87000  |\n"
     ]
    }
   ],
   "source": [
    "print(dataStr)"
   ]
  },
  {
   "cell_type": "code",
   "execution_count": 4,
   "metadata": {},
   "outputs": [
    {
     "data": {
      "text/plain": [
       "['| ID  |  Name | DeptId| Age | Gender | Salary |',\n",
       " '| --- |  ---  |  ---  | --- |  ---   | ------ |',\n",
       " '| 001 | Mike  | 002   | 45  |   M    | 60000  |',\n",
       " '| 002 | Judy  | 002   | 30  |   F    | 48000  |',\n",
       " '| 003 | Allen | 001   | 22  |   M    | 50000  |',\n",
       " '| 004 | Tom   | 002   | 47  |   M    | 47000  |',\n",
       " '| 005 | Jack  | 003   | 36  |   M    | 52000  |',\n",
       " '| 006 | Abby  | 002   | 24  |   F    | 45000  |',\n",
       " '| 007 | Trump | 001   | 80  |   M    | 80000  |',\n",
       " '| 008 | Marry | 003   | 29  |   F    | 87000  |']"
      ]
     },
     "execution_count": 4,
     "metadata": {},
     "output_type": "execute_result"
    }
   ],
   "source": [
    "column = dataStr.split('\\n')\n",
    "column"
   ]
  },
  {
   "cell_type": "code",
   "execution_count": 5,
   "metadata": {},
   "outputs": [
    {
     "data": {
      "text/plain": [
       "'| ID  |  Name | DeptId| Age | Gender | Salary |'"
      ]
     },
     "execution_count": 5,
     "metadata": {},
     "output_type": "execute_result"
    }
   ],
   "source": [
    "column = dataStr.split('\\n')[0]\n",
    "column"
   ]
  },
  {
   "cell_type": "code",
   "execution_count": 6,
   "metadata": {},
   "outputs": [
    {
     "data": {
      "text/plain": [
       "'|ID|Name|DeptId|Age|Gender|Salary|'"
      ]
     },
     "execution_count": 6,
     "metadata": {},
     "output_type": "execute_result"
    }
   ],
   "source": [
    "column= dataStr.split('\\n')[0].replace(' ','')\n",
    "column"
   ]
  },
  {
   "cell_type": "code",
   "execution_count": 7,
   "metadata": {},
   "outputs": [
    {
     "data": {
      "text/plain": [
       "['', 'ID', 'Name', 'DeptId', 'Age', 'Gender', 'Salary', '']"
      ]
     },
     "execution_count": 7,
     "metadata": {},
     "output_type": "execute_result"
    }
   ],
   "source": [
    "column= dataStr.split('\\n')[0].replace(' ','').split('|')\n",
    "column"
   ]
  },
  {
   "cell_type": "code",
   "execution_count": 8,
   "metadata": {},
   "outputs": [
    {
     "data": {
      "text/plain": [
       "['ID', 'Name', 'DeptId', 'Age', 'Gender', 'Salary']"
      ]
     },
     "execution_count": 8,
     "metadata": {},
     "output_type": "execute_result"
    }
   ],
   "source": [
    "column= dataStr.split('\\n')[0].replace(' ','').split('|')[1:-1]\n",
    "column"
   ]
  },
  {
   "cell_type": "code",
   "execution_count": 9,
   "metadata": {},
   "outputs": [
    {
     "data": {
      "text/plain": [
       "['| 001 | Mike  | 002   | 45  |   M    | 60000  |',\n",
       " '| 002 | Judy  | 002   | 30  |   F    | 48000  |',\n",
       " '| 003 | Allen | 001   | 22  |   M    | 50000  |',\n",
       " '| 004 | Tom   | 002   | 47  |   M    | 47000  |',\n",
       " '| 005 | Jack  | 003   | 36  |   M    | 52000  |',\n",
       " '| 006 | Abby  | 002   | 24  |   F    | 45000  |',\n",
       " '| 007 | Trump | 001   | 80  |   M    | 80000  |',\n",
       " '| 008 | Marry | 003   | 29  |   F    | 87000  |']"
      ]
     },
     "execution_count": 9,
     "metadata": {},
     "output_type": "execute_result"
    }
   ],
   "source": [
    "dataStr.split('\\n')[2:]"
   ]
  },
  {
   "cell_type": "code",
   "execution_count": 10,
   "metadata": {
    "scrolled": true
   },
   "outputs": [
    {
     "data": {
      "text/plain": [
       "['| 001 | Mike  | 002   | 45  |   M    | 60000  |',\n",
       " '| 002 | Judy  | 002   | 30  |   F    | 48000  |',\n",
       " '| 003 | Allen | 001   | 22  |   M    | 50000  |',\n",
       " '| 004 | Tom   | 002   | 47  |   M    | 47000  |',\n",
       " '| 005 | Jack  | 003   | 36  |   M    | 52000  |',\n",
       " '| 006 | Abby  | 002   | 24  |   F    | 45000  |',\n",
       " '| 007 | Trump | 001   | 80  |   M    | 80000  |',\n",
       " '| 008 | Marry | 003   | 29  |   F    | 87000  |']"
      ]
     },
     "execution_count": 10,
     "metadata": {},
     "output_type": "execute_result"
    }
   ],
   "source": [
    "[e for e in dataStr.split('\\n')[2:]]"
   ]
  },
  {
   "cell_type": "code",
   "execution_count": 11,
   "metadata": {
    "scrolled": true
   },
   "outputs": [
    {
     "data": {
      "text/plain": [
       "['|001|Mike|002|45|M|60000|',\n",
       " '|002|Judy|002|30|F|48000|',\n",
       " '|003|Allen|001|22|M|50000|',\n",
       " '|004|Tom|002|47|M|47000|',\n",
       " '|005|Jack|003|36|M|52000|',\n",
       " '|006|Abby|002|24|F|45000|',\n",
       " '|007|Trump|001|80|M|80000|',\n",
       " '|008|Marry|003|29|F|87000|']"
      ]
     },
     "execution_count": 11,
     "metadata": {},
     "output_type": "execute_result"
    }
   ],
   "source": [
    "[e.replace(' ','') for e in dataStr.split('\\n')[2:]]"
   ]
  },
  {
   "cell_type": "code",
   "execution_count": 12,
   "metadata": {},
   "outputs": [
    {
     "data": {
      "text/plain": [
       "[['', '001', 'Mike', '002', '45', 'M', '60000', ''],\n",
       " ['', '002', 'Judy', '002', '30', 'F', '48000', ''],\n",
       " ['', '003', 'Allen', '001', '22', 'M', '50000', ''],\n",
       " ['', '004', 'Tom', '002', '47', 'M', '47000', ''],\n",
       " ['', '005', 'Jack', '003', '36', 'M', '52000', ''],\n",
       " ['', '006', 'Abby', '002', '24', 'F', '45000', ''],\n",
       " ['', '007', 'Trump', '001', '80', 'M', '80000', ''],\n",
       " ['', '008', 'Marry', '003', '29', 'F', '87000', '']]"
      ]
     },
     "execution_count": 12,
     "metadata": {},
     "output_type": "execute_result"
    }
   ],
   "source": [
    "allstaff = [e.replace(' ','').split('|') for e in dataStr.split('\\n')[2:]]\n",
    "allstaff"
   ]
  },
  {
   "cell_type": "code",
   "execution_count": 15,
   "metadata": {
    "scrolled": true
   },
   "outputs": [
    {
     "data": {
      "text/plain": [
       "[['001', 'Mike', '002', '45', 'M', '60000'],\n",
       " ['002', 'Judy', '002', '30', 'F', '48000'],\n",
       " ['003', 'Allen', '001', '22', 'M', '50000'],\n",
       " ['004', 'Tom', '002', '47', 'M', '47000'],\n",
       " ['005', 'Jack', '003', '36', 'M', '52000'],\n",
       " ['006', 'Abby', '002', '24', 'F', '45000'],\n",
       " ['007', 'Trump', '001', '80', 'M', '80000'],\n",
       " ['008', 'Marry', '003', '29', 'F', '87000']]"
      ]
     },
     "execution_count": 15,
     "metadata": {},
     "output_type": "execute_result"
    }
   ],
   "source": [
    "allstaff = [e.replace(' ','').split('|')[1:-1] for e in dataStr.split('\\n')[2:]]\n",
    "allstaff"
   ]
  },
  {
   "cell_type": "code",
   "execution_count": 21,
   "metadata": {
    "scrolled": true
   },
   "outputs": [
    {
     "data": {
      "text/plain": [
       "{'001': ['001', 'Mike', '002', '45', 'M', '60000'],\n",
       " '002': ['002', 'Judy', '002', '30', 'F', '48000'],\n",
       " '003': ['003', 'Allen', '001', '22', 'M', '50000'],\n",
       " '004': ['004', 'Tom', '002', '47', 'M', '47000'],\n",
       " '005': ['005', 'Jack', '003', '36', 'M', '52000'],\n",
       " '006': ['006', 'Abby', '002', '24', 'F', '45000'],\n",
       " '007': ['007', 'Trump', '001', '80', 'M', '80000'],\n",
       " '008': ['008', 'Marry', '003', '29', 'F', '87000']}"
      ]
     },
     "execution_count": 21,
     "metadata": {},
     "output_type": "execute_result"
    }
   ],
   "source": [
    "{staff[0]:staff for staff in allstaff}"
   ]
  },
  {
   "cell_type": "code",
   "execution_count": 22,
   "metadata": {},
   "outputs": [
    {
     "data": {
      "text/plain": [
       "{'001': {0: '001', 1: 'Mike', 2: '002', 3: '45', 4: 'M', 5: '60000'},\n",
       " '002': {0: '002', 1: 'Judy', 2: '002', 3: '30', 4: 'F', 5: '48000'},\n",
       " '003': {0: '003', 1: 'Allen', 2: '001', 3: '22', 4: 'M', 5: '50000'},\n",
       " '004': {0: '004', 1: 'Tom', 2: '002', 3: '47', 4: 'M', 5: '47000'},\n",
       " '005': {0: '005', 1: 'Jack', 2: '003', 3: '36', 4: 'M', 5: '52000'},\n",
       " '006': {0: '006', 1: 'Abby', 2: '002', 3: '24', 4: 'F', 5: '45000'},\n",
       " '007': {0: '007', 1: 'Trump', 2: '001', 3: '80', 4: 'M', 5: '80000'},\n",
       " '008': {0: '008', 1: 'Marry', 2: '003', 3: '29', 4: 'F', 5: '87000'}}"
      ]
     },
     "execution_count": 22,
     "metadata": {},
     "output_type": "execute_result"
    }
   ],
   "source": [
    "{staff[0]:{col:info for col,info in enumerate(staff)} for staff in allstaff}"
   ]
  },
  {
   "cell_type": "code",
   "execution_count": 20,
   "metadata": {},
   "outputs": [
    {
     "data": {
      "text/plain": [
       "{'001': {'ID': '001',\n",
       "  'Name': 'Mike',\n",
       "  'DeptId': '002',\n",
       "  'Age': '45',\n",
       "  'Gender': 'M',\n",
       "  'Salary': '60000'},\n",
       " '002': {'ID': '002',\n",
       "  'Name': 'Judy',\n",
       "  'DeptId': '002',\n",
       "  'Age': '30',\n",
       "  'Gender': 'F',\n",
       "  'Salary': '48000'},\n",
       " '003': {'ID': '003',\n",
       "  'Name': 'Allen',\n",
       "  'DeptId': '001',\n",
       "  'Age': '22',\n",
       "  'Gender': 'M',\n",
       "  'Salary': '50000'},\n",
       " '004': {'ID': '004',\n",
       "  'Name': 'Tom',\n",
       "  'DeptId': '002',\n",
       "  'Age': '47',\n",
       "  'Gender': 'M',\n",
       "  'Salary': '47000'},\n",
       " '005': {'ID': '005',\n",
       "  'Name': 'Jack',\n",
       "  'DeptId': '003',\n",
       "  'Age': '36',\n",
       "  'Gender': 'M',\n",
       "  'Salary': '52000'},\n",
       " '006': {'ID': '006',\n",
       "  'Name': 'Abby',\n",
       "  'DeptId': '002',\n",
       "  'Age': '24',\n",
       "  'Gender': 'F',\n",
       "  'Salary': '45000'},\n",
       " '007': {'ID': '007',\n",
       "  'Name': 'Trump',\n",
       "  'DeptId': '001',\n",
       "  'Age': '80',\n",
       "  'Gender': 'M',\n",
       "  'Salary': '80000'},\n",
       " '008': {'ID': '008',\n",
       "  'Name': 'Marry',\n",
       "  'DeptId': '003',\n",
       "  'Age': '29',\n",
       "  'Gender': 'F',\n",
       "  'Salary': '87000'}}"
      ]
     },
     "execution_count": 20,
     "metadata": {},
     "output_type": "execute_result"
    }
   ],
   "source": [
    "{staff[0]:{column[col]:info for col,info in enumerate(staff)} for staff in allstaff}"
   ]
  }
 ],
 "metadata": {
  "kernelspec": {
   "display_name": "Python 3",
   "language": "python",
   "name": "python3"
  },
  "language_info": {
   "codemirror_mode": {
    "name": "ipython",
    "version": 3
   },
   "file_extension": ".py",
   "mimetype": "text/x-python",
   "name": "python",
   "nbconvert_exporter": "python",
   "pygments_lexer": "ipython3",
   "version": "3.7.4"
  }
 },
 "nbformat": 4,
 "nbformat_minor": 4
}
